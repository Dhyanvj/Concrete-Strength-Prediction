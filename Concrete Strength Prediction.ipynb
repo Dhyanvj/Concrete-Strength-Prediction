{
 "cells": [
  {
   "cell_type": "code",
   "execution_count": 1,
   "id": "15e4fed0-07b1-4964-b782-256b97759749",
   "metadata": {},
   "outputs": [],
   "source": [
    "import numpy as np\n",
    "import pandas as pd\n",
    "import tensorflow as tf\n",
    "from tensorflow import keras\n",
    "from sklearn.model_selection import train_test_split\n",
    "from sklearn.metrics import mean_squared_error\n",
    "from sklearn.preprocessing import StandardScaler"
   ]
  },
  {
   "cell_type": "code",
   "execution_count": 2,
   "id": "2738e4fa-9745-4ddc-b097-617188272753",
   "metadata": {},
   "outputs": [],
   "source": [
    "# Load dataset\n",
    "data = pd.read_csv(\"concrete_data.csv\")  # Replace with your actual dataset"
   ]
  },
  {
   "cell_type": "code",
   "execution_count": 3,
   "id": "d69c38cc-b14e-4ba0-8ca5-28461749c0bc",
   "metadata": {},
   "outputs": [],
   "source": [
    "# Separate features and target\n",
    "X = data.iloc[:, :-1].values  # All columns except last\n",
    "y = data.iloc[:, -1].values   # Target variable"
   ]
  },
  {
   "cell_type": "code",
   "execution_count": 4,
   "id": "d982d008-37a0-495d-acb9-41526821f71d",
   "metadata": {},
   "outputs": [],
   "source": [
    "# Function to create baseline model\n",
    "def build_model():\n",
    "    model = keras.Sequential([\n",
    "        keras.layers.Dense(10, activation='relu', input_shape=(X.shape[1],)),  \n",
    "        keras.layers.Dense(1)  # Output layer (Regression)\n",
    "    ])\n",
    "    model.compile(optimizer='adam', loss='mean_squared_error')\n",
    "    return model"
   ]
  },
  {
   "cell_type": "code",
   "execution_count": 5,
   "id": "3e976b38-a407-404f-bf74-6a5d950d1f27",
   "metadata": {},
   "outputs": [],
   "source": [
    "# Function to train and evaluate model\n",
    "def train_and_evaluate(X_train, X_test, y_train, y_test, epochs=50):\n",
    "    model = build_model()\n",
    "    model.fit(X_train, y_train, epochs=epochs, verbose=0, batch_size=10)\n",
    "    y_pred = model.predict(X_test).flatten()\n",
    "    return mean_squared_error(y_test, y_pred)"
   ]
  },
  {
   "cell_type": "code",
   "execution_count": 6,
   "id": "b550fc0a-7246-4266-a3b2-1746818ca7dd",
   "metadata": {},
   "outputs": [
    {
     "name": "stdout",
     "output_type": "stream",
     "text": [
      "10/10 [==============================] - 0s 3ms/step\n",
      "10/10 [==============================] - 0s 3ms/step\n",
      "10/10 [==============================] - 0s 6ms/step\n",
      "10/10 [==============================] - 0s 3ms/step\n",
      "10/10 [==============================] - 0s 33ms/step\n",
      "10/10 [==============================] - 0s 3ms/step\n",
      "10/10 [==============================] - 0s 4ms/step\n",
      "10/10 [==============================] - 0s 4ms/step\n",
      "10/10 [==============================] - 0s 2ms/step\n",
      "10/10 [==============================] - 0s 2ms/step\n"
     ]
    }
   ],
   "source": [
    "# Part A: Baseline Model (50 repetitions)\n",
    "mse_list = []\n",
    "for _ in range(10):\n",
    "    X_train, X_test, y_train, y_test = train_test_split(X, y, test_size=0.3, random_state=None)\n",
    "    mse = train_and_evaluate(X_train, X_test, y_train, y_test, epochs=50)\n",
    "    mse_list.append(mse)"
   ]
  },
  {
   "cell_type": "code",
   "execution_count": 7,
   "id": "ffe94cab-28e3-41b7-b408-0110320f7be0",
   "metadata": {},
   "outputs": [
    {
     "name": "stdout",
     "output_type": "stream",
     "text": [
      "Part A - Baseline Model: Mean MSE = 135.8004, Std MSE = 31.2529\n"
     ]
    }
   ],
   "source": [
    "# Report mean and standard deviation of MSE\n",
    "mean_mse_A = np.mean(mse_list)\n",
    "std_mse_A = np.std(mse_list)\n",
    "print(f\"Part A - Baseline Model: Mean MSE = {mean_mse_A:.4f}, Std MSE = {std_mse_A:.4f}\")"
   ]
  },
  {
   "cell_type": "code",
   "execution_count": 8,
   "id": "79749f46-1e8c-43a4-bd78-7ccc8f8ed99b",
   "metadata": {},
   "outputs": [],
   "source": [
    "# Part B: Normalized Data\n",
    "scaler = StandardScaler()\n",
    "X_normalized = scaler.fit_transform(X)"
   ]
  },
  {
   "cell_type": "code",
   "execution_count": 9,
   "id": "b7141468-70fc-4ae9-ad6f-9b38ed6fd2b9",
   "metadata": {},
   "outputs": [
    {
     "name": "stdout",
     "output_type": "stream",
     "text": [
      "10/10 [==============================] - 0s 4ms/step\n",
      "10/10 [==============================] - 0s 8ms/step\n",
      "10/10 [==============================] - 0s 5ms/step\n",
      "10/10 [==============================] - 0s 4ms/step\n",
      "10/10 [==============================] - 0s 2ms/step\n",
      "10/10 [==============================] - 0s 3ms/step\n",
      "10/10 [==============================] - 0s 6ms/step\n",
      "10/10 [==============================] - 0s 4ms/step\n",
      "10/10 [==============================] - 0s 2ms/step\n",
      "10/10 [==============================] - 0s 3ms/step\n"
     ]
    }
   ],
   "source": [
    "mse_list = []\n",
    "for _ in range(10):\n",
    "    X_train, X_test, y_train, y_test = train_test_split(X_normalized, y, test_size=0.3, random_state=None)\n",
    "    mse = train_and_evaluate(X_train, X_test, y_train, y_test, epochs=50)\n",
    "    mse_list.append(mse)"
   ]
  },
  {
   "cell_type": "code",
   "execution_count": 10,
   "id": "44fb6269-9ad9-4abc-8963-68f1314ef21f",
   "metadata": {},
   "outputs": [
    {
     "name": "stdout",
     "output_type": "stream",
     "text": [
      "Part B - Normalized Data: Mean MSE = 131.2324, Std MSE = 6.7557\n"
     ]
    }
   ],
   "source": [
    "mean_mse_B = np.mean(mse_list)\n",
    "std_mse_B = np.std(mse_list)\n",
    "print(f\"Part B - Normalized Data: Mean MSE = {mean_mse_B:.4f}, Std MSE = {std_mse_B:.4f}\")"
   ]
  },
  {
   "cell_type": "code",
   "execution_count": 11,
   "id": "9da54b9e-1076-48fe-b4e3-bfe45b07b7bf",
   "metadata": {},
   "outputs": [
    {
     "name": "stdout",
     "output_type": "stream",
     "text": [
      "10/10 [==============================] - 0s 2ms/step\n",
      "10/10 [==============================] - 0s 3ms/step\n",
      "10/10 [==============================] - 0s 5ms/step\n",
      "10/10 [==============================] - 0s 4ms/step\n",
      "10/10 [==============================] - 0s 4ms/step\n",
      "10/10 [==============================] - 0s 2ms/step\n",
      "10/10 [==============================] - 0s 2ms/step\n",
      "10/10 [==============================] - 0s 3ms/step\n",
      "10/10 [==============================] - 0s 2ms/step\n",
      "10/10 [==============================] - 0s 7ms/step\n"
     ]
    }
   ],
   "source": [
    "# Part C: Increase Epochs (100 epochs)\n",
    "mse_list = []\n",
    "for _ in range(10):\n",
    "    X_train, X_test, y_train, y_test = train_test_split(X_normalized, y, test_size=0.3, random_state=None)\n",
    "    mse = train_and_evaluate(X_train, X_test, y_train, y_test, epochs=100)\n",
    "    mse_list.append(mse)"
   ]
  },
  {
   "cell_type": "code",
   "execution_count": 12,
   "id": "b0afd295-d2e4-41a8-b9a8-3b913ef5b5b7",
   "metadata": {},
   "outputs": [
    {
     "name": "stdout",
     "output_type": "stream",
     "text": [
      "Part C - Increased Epochs: Mean MSE = 74.9181, Std MSE = 8.2565\n"
     ]
    }
   ],
   "source": [
    "mean_mse_C = np.mean(mse_list)\n",
    "std_mse_C = np.std(mse_list)\n",
    "print(f\"Part C - Increased Epochs: Mean MSE = {mean_mse_C:.4f}, Std MSE = {std_mse_C:.4f}\")"
   ]
  },
  {
   "cell_type": "code",
   "execution_count": 13,
   "id": "9a79ba07-73c2-40d5-9057-d78acff4e262",
   "metadata": {},
   "outputs": [],
   "source": [
    "# Part D: Increase Hidden Layers (3 hidden layers)\n",
    "def build_deep_model():\n",
    "    model = keras.Sequential([\n",
    "        keras.layers.Dense(10, activation='relu', input_shape=(X.shape[1],)),\n",
    "        keras.layers.Dense(10, activation='relu'),\n",
    "        keras.layers.Dense(10, activation='relu'),\n",
    "        keras.layers.Dense(1)\n",
    "    ])\n",
    "    model.compile(optimizer='adam', loss='mean_squared_error')\n",
    "    return model"
   ]
  },
  {
   "cell_type": "code",
   "execution_count": 14,
   "id": "d420a8f3-5c83-4adc-b9bc-52e047854a94",
   "metadata": {},
   "outputs": [],
   "source": [
    "def train_and_evaluate_deep(X_train, X_test, y_train, y_test, epochs=50):\n",
    "    model = build_deep_model()\n",
    "    model.fit(X_train, y_train, epochs=epochs, verbose=0, batch_size=10)\n",
    "    y_pred = model.predict(X_test).flatten()\n",
    "    return mean_squared_error(y_test, y_pred)"
   ]
  },
  {
   "cell_type": "code",
   "execution_count": 15,
   "id": "48cd0c2b-f10a-4da9-a39b-7cbe051a1b72",
   "metadata": {},
   "outputs": [
    {
     "name": "stdout",
     "output_type": "stream",
     "text": [
      "10/10 [==============================] - 0s 2ms/step\n",
      "10/10 [==============================] - 0s 3ms/step\n",
      "10/10 [==============================] - 0s 2ms/step\n",
      "10/10 [==============================] - 0s 3ms/step\n",
      "10/10 [==============================] - 0s 2ms/step\n",
      "10/10 [==============================] - 0s 3ms/step\n",
      "10/10 [==============================] - 0s 3ms/step\n",
      "10/10 [==============================] - 0s 2ms/step\n",
      "10/10 [==============================] - 1s 4ms/step\n",
      "10/10 [==============================] - 0s 2ms/step\n"
     ]
    }
   ],
   "source": [
    "mse_list = []\n",
    "for _ in range(10):\n",
    "    X_train, X_test, y_train, y_test = train_test_split(X_normalized, y, test_size=0.3, random_state=None)\n",
    "    mse = train_and_evaluate_deep(X_train, X_test, y_train, y_test, epochs=50)\n",
    "    mse_list.append(mse)"
   ]
  },
  {
   "cell_type": "code",
   "execution_count": 16,
   "id": "63f21783-aed0-45fb-a3b8-ac00f9cc693e",
   "metadata": {},
   "outputs": [
    {
     "name": "stdout",
     "output_type": "stream",
     "text": [
      "Part D - Increased Hidden Layers: Mean MSE = 93.2736, Std MSE = 24.7881\n"
     ]
    }
   ],
   "source": [
    "mean_mse_D = np.mean(mse_list)\n",
    "std_mse_D = np.std(mse_list)\n",
    "print(f\"Part D - Increased Hidden Layers: Mean MSE = {mean_mse_D:.4f}, Std MSE = {std_mse_D:.4f}\")"
   ]
  },
  {
   "cell_type": "code",
   "execution_count": null,
   "id": "e620c4fe-36d1-4726-b0d8-221fae67debc",
   "metadata": {},
   "outputs": [],
   "source": []
  },
  {
   "cell_type": "code",
   "execution_count": null,
   "id": "314a2959-d4b4-4032-a11b-e8f3e4027a57",
   "metadata": {},
   "outputs": [],
   "source": []
  }
 ],
 "metadata": {
  "kernelspec": {
   "display_name": "Python 3 (ipykernel)",
   "language": "python",
   "name": "python3"
  },
  "language_info": {
   "codemirror_mode": {
    "name": "ipython",
    "version": 3
   },
   "file_extension": ".py",
   "mimetype": "text/x-python",
   "name": "python",
   "nbconvert_exporter": "python",
   "pygments_lexer": "ipython3",
   "version": "3.8.18"
  }
 },
 "nbformat": 4,
 "nbformat_minor": 5
}
